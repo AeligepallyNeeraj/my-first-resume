{
 "cells": [
  {
   "attachments": {},
   "cell_type": "markdown",
   "id": "3ff76981",
   "metadata": {},
   "source": [
    "# Resume-(heading-1)\n",
    "# Personal information-(heading-2)\n",
    "1. Name-A.Neeraj\n",
    "2. mobile no-+91**********16\n",
    "3. email id-yuvineeraj0@gmail.com\n",
    "4. Hyderabad,Telanagana\n",
    "# insert an image \n",
    "![] ((https://photos.google.com/search/_tra_/photo/AF1QipO69ntXDFTdS442YYzT9QByj3O4uJQsBvSM5uZQ))\n",
    "# Educational Qualifications\n",
    "1. Akshaya Foundation School(1-10)\n",
    "2. Narayana junior college (Intermediate)\n",
    "3. Vivekanandha degree college(Degree)\n",
    "# Skills and abilities\n",
    "* <U>Multilingual</U>\n",
    "* can complete any task within less time\n",
    "* <B>completed degree in computer science</B>\n",
    "* `Quick learner`\n",
    "# links \n",
    " []https://photos.google.com/search/_tra_/photo/AF1QipO69ntXDFTdS442YYzT9QByj3O4uJQsBvSM5uZQ\n",
    " []https://www.kaggle.com/me\n",
    " []https://github.com/AeligepallyNeeraj\n",
    " \n",
    "\n"
   ]
  },
  {
   "cell_type": "code",
   "execution_count": null,
   "id": "addc14fb",
   "metadata": {},
   "outputs": [],
   "source": []
  }
 ],
 "metadata": {
  "kernelspec": {
   "display_name": "Python 3 (ipykernel)",
   "language": "python",
   "name": "python3"
  },
  "language_info": {
   "codemirror_mode": {
    "name": "ipython",
    "version": 3
   },
   "file_extension": ".py",
   "mimetype": "text/x-python",
   "name": "python",
   "nbconvert_exporter": "python",
   "pygments_lexer": "ipython3",
   "version": "3.11.5"
  }
 },
 "nbformat": 4,
 "nbformat_minor": 5
}
